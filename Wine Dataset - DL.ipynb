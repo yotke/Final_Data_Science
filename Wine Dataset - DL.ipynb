{
 "cells": [
  {
   "cell_type": "markdown",
   "id": "8e783de8-8780-4eca-aed9-24b8579aaf3a",
   "metadata": {},
   "source": [
    "pip install --upgrade numpy"
   ]
  },
  {
   "cell_type": "markdown",
   "id": "691b108f-0830-4399-b7d0-329d9c802d41",
   "metadata": {},
   "source": [
    "pip install graphviz"
   ]
  },
  {
   "cell_type": "code",
   "execution_count": 5,
   "id": "53d3edfa-3d57-431d-9c2e-a6c6e11040fb",
   "metadata": {},
   "outputs": [
    {
     "name": "stderr",
     "output_type": "stream",
     "text": [
      "2023-07-04 04:12:33.700673: I tensorflow/core/platform/cpu_feature_guard.cc:182] This TensorFlow binary is optimized to use available CPU instructions in performance-critical operations.\n",
      "To enable the following instructions: AVX2 FMA, in other operations, rebuild TensorFlow with the appropriate compiler flags.\n"
     ]
    }
   ],
   "source": [
    "import gensim\n",
    "import numpy as np\n",
    "import pandas as pd\n",
    "import tensorflow as tf\n",
    "from sklearn.compose import ColumnTransformer\n",
    "from sklearn.pipeline import Pipeline\n",
    "from sklearn.impute import SimpleImputer\n",
    "from sklearn.preprocessing import StandardScaler, OneHotEncoder\n",
    "from sklearn.feature_extraction.text import TfidfVectorizer\n",
    "from sklearn.decomposition import PCA\n",
    "from sklearn.decomposition import TruncatedSVD\n",
    "from tensorflow.keras import layers, models\n",
    "from tensorflow.keras.models import Model, Sequential\n",
    "from tensorflow.keras.layers import Input, Dense, Embedding, Concatenate, Flatten, TextVectorization, Dropout\n",
    "from tensorflow.keras.optimizers import Adam\n",
    "from tensorflow.keras.metrics import MeanSquaredError\n",
    "from tensorflow.keras.losses import MeanSquaredError\n",
    "from sklearn.preprocessing import MinMaxScaler, OneHotEncoder\n",
    "from tensorflow.keras.preprocessing.text import Tokenizer\n",
    "from tensorflow.keras.utils import to_categorical, plot_model, pad_sequences\n",
    "from tensorflow.keras.callbacks import EarlyStopping\n",
    "from tensorflow.keras import activations\n",
    "from sklearn.model_selection import train_test_split\n"
   ]
  },
  {
   "cell_type": "code",
   "execution_count": null,
   "id": "9bda29cd-7656-4669-ad35-1cc8bddf330f",
   "metadata": {},
   "outputs": [],
   "source": []
  },
  {
   "cell_type": "code",
   "execution_count": 1,
   "id": "013412a8-c8e8-428d-bd72-db3c794e80d2",
   "metadata": {},
   "outputs": [],
   "source": [
    "import pandas as pd\n",
    "import cufflinks as cf;\n",
    "# cf.go_offline()"
   ]
  },
  {
   "cell_type": "code",
   "execution_count": 2,
   "id": "670cc0be-2bcd-463d-8c9c-b62aad0c50de",
   "metadata": {},
   "outputs": [
    {
     "data": {
      "text/plain": [
       "(129908, 19)"
      ]
     },
     "execution_count": 2,
     "metadata": {},
     "output_type": "execute_result"
    }
   ],
   "source": [
    "wine_reviews = pd.read_csv(\"wine_reviews.csv\")\n",
    "wine_reviews.shape"
   ]
  },
  {
   "cell_type": "code",
   "execution_count": 3,
   "id": "d8a2775e-396a-4f85-8d1c-27247c88ad00",
   "metadata": {},
   "outputs": [],
   "source": [
    "categorical_features =  ['country','province','region_1','variety','winery','year']\n",
    "numerical_features = ['price']\n",
    "description_features = ['description']"
   ]
  },
  {
   "cell_type": "code",
   "execution_count": 27,
   "id": "864a085a-3285-4025-81ad-597869bd8ab9",
   "metadata": {},
   "outputs": [
    {
     "data": {
      "text/plain": [
       "(16745,)"
      ]
     },
     "execution_count": 27,
     "metadata": {},
     "output_type": "execute_result"
    }
   ],
   "source": [
    "distinct_values = wine_reviews['winery'].unique()\n",
    "distinct_values.shape"
   ]
  },
  {
   "cell_type": "code",
   "execution_count": 6,
   "id": "059f1dd5-67a0-49af-9d29-b8604f3fcf6d",
   "metadata": {},
   "outputs": [
    {
     "data": {
      "text/plain": [
       "(125280, 9)"
      ]
     },
     "execution_count": 6,
     "metadata": {},
     "output_type": "execute_result"
    }
   ],
   "source": [
    "wine_reviews_dl = wine_reviews[categorical_features+numerical_features+description_features+['points']]\n",
    "wine_reviews_dl\n",
    "# wine_reviews_dl = wine_reviews_dl[~wine_reviews_dl['points'].str.contains('NV', na=False)]\n",
    "np.where(wine_reviews_dl=='NV')\n",
    "indices = np.where(wine_reviews_dl == 'NV')\n",
    "wine_reviews_dl = wine_reviews_dl.drop(indices[0])\n",
    "wine_reviews_dl.shape\n"
   ]
  },
  {
   "cell_type": "code",
   "execution_count": 7,
   "id": "e1724c25-ef6a-4adc-85ac-9b9e1e29c2c8",
   "metadata": {},
   "outputs": [
    {
     "data": {
      "text/plain": [
       "(array([], dtype=int64), array([], dtype=int64))"
      ]
     },
     "execution_count": 7,
     "metadata": {},
     "output_type": "execute_result"
    }
   ],
   "source": [
    "from sklearn.model_selection import train_test_split\n",
    "# Split the data into train and test sets\n",
    "wine_reviews_X = wine_reviews_dl.drop(columns='points').head(10000)\n",
    "wine_reviews_y = wine_reviews_dl['points'].head(10000)\n",
    "\n",
    "X_train, X_test, y_train, y_test = train_test_split(wine_reviews_X, wine_reviews_y, test_size=0.2, random_state=17)\n",
    "\n",
    "np.where(X_test=='NV')"
   ]
  },
  {
   "cell_type": "markdown",
   "id": "c9424940-0e40-4c4d-a499-9f3683c0b3b7",
   "metadata": {},
   "source": [
    "## Preprocessing"
   ]
  },
  {
   "cell_type": "code",
   "execution_count": 8,
   "id": "90b77a5f-17e7-4004-8e48-55aea276c49a",
   "metadata": {},
   "outputs": [
    {
     "name": "stdout",
     "output_type": "stream",
     "text": [
      "<class 'numpy.float32'>\n",
      "<class 'numpy.float32'>\n",
      "<class 'numpy.float32'>\n",
      "<class 'numpy.float32'>\n",
      "<class 'numpy.float32'>\n",
      "<class 'numpy.float32'>\n"
     ]
    },
    {
     "data": {
      "text/plain": [
       "0"
      ]
     },
     "execution_count": 8,
     "metadata": {},
     "output_type": "execute_result"
    }
   ],
   "source": [
    "for feature in categorical_features:\n",
    "    wine_reviews_X[feature] = pd.Categorical(wine_reviews_X[feature]).codes.astype('float32')\n",
    "    X_train[feature] = pd.Categorical(X_train[feature]).codes.astype('float32')\n",
    "    X_test[feature] = pd.Categorical(X_test[feature]).codes.astype('float32')\n",
    "\n",
    "    print(type(X_train[feature].iloc[0]))\n",
    "    \n",
    "\n",
    "wine_reviews_X.isnull().sum().sum()\n",
    "# for feature in categorical_features:\n",
    "wine_reviews_X.winery.isnull().sum().sum()\n",
    "# Check for missing values in desc_1024_pad and X_train['winery']\n",
    "# print(\"Missing values in desc_1024_pad:\", np.isnan(desc_1024_pad).any())\n",
    "# print(\"Missing values in X_train['winery']:\", X_train['winery'].isnull().any())\n",
    "# print(\"Shape of desc_1024_pad:\", desc_1024_pad.shape)\n",
    "# print(\"Shape of X_train['winery']:\", X_train['winery'].shape)\n",
    "# print(\"Shape of y_train:\", y_train.shape)\n",
    "# np.where(np.isnan(wine_reviews_X['variety']))\n"
   ]
  },
  {
   "cell_type": "code",
   "execution_count": 36,
   "id": "8b3c1a11-16a0-4c57-ba76-e87e441500b9",
   "metadata": {},
   "outputs": [
    {
     "name": "stdout",
     "output_type": "stream",
     "text": [
      "(4720,)\n",
      "(306,)\n",
      "(34,)\n",
      "(28,)\n"
     ]
    }
   ],
   "source": [
    "distinct_values_winery = X_train['winery'].unique()\n",
    "distinct_values_variety = X_train['variety'].unique()\n",
    "distinct_values_country = X_train['country'].unique()\n",
    "distinct_values_year = X_train['year'].unique()\n",
    "\n",
    "\n",
    "print(distinct_values_winery.shape)\n",
    "print(distinct_values_variety.shape)\n",
    "print(distinct_values_country.shape)\n",
    "print(distinct_values_year.shape)"
   ]
  },
  {
   "cell_type": "code",
   "execution_count": 9,
   "id": "acf2ba80-a22a-459b-8d8c-42151642ead2",
   "metadata": {},
   "outputs": [],
   "source": [
    "minmax = MinMaxScaler()\n",
    "wine_reviews_y = minmax.fit_transform([wine_reviews_y])\n",
    "# y_train = minmax.fit_transform([y_train])\n"
   ]
  },
  {
   "cell_type": "code",
   "execution_count": 10,
   "id": "1363d904-39c8-4c07-9beb-4621f2d54088",
   "metadata": {},
   "outputs": [
    {
     "data": {
      "text/plain": [
       "135"
      ]
     },
     "execution_count": 10,
     "metadata": {},
     "output_type": "execute_result"
    }
   ],
   "source": [
    "max_desc_len = max(wine_reviews.description_len)\n",
    "max_desc_len"
   ]
  },
  {
   "cell_type": "code",
   "execution_count": 11,
   "id": "b0508b81-6066-4c6c-868c-0dc155b80495",
   "metadata": {},
   "outputs": [],
   "source": [
    "# y_train = y_train.values.reshape((-1,))\n",
    "# y_train = y_train.values.reshape((-1,))"
   ]
  },
  {
   "cell_type": "code",
   "execution_count": 14,
   "id": "64df0891-f119-408b-89e6-1547fee9a0fd",
   "metadata": {},
   "outputs": [],
   "source": [
    "tokenizer_1024 = Tokenizer(num_words=1024)\n",
    "tokenizer_1024.fit_on_texts(X_train.description)\n",
    "desc_1024 = tokenizer_1024.texts_to_sequences(X_train.description)\n",
    "# tokenizer_1024.word_index"
   ]
  },
  {
   "cell_type": "code",
   "execution_count": 15,
   "id": "54ff71d2-1827-4b02-b7ea-18464b6fb6b9",
   "metadata": {},
   "outputs": [
    {
     "name": "stdout",
     "output_type": "stream",
     "text": [
      "float32\n",
      "Shape of X_train['year']: (8000,)\n"
     ]
    }
   ],
   "source": [
    "print(X_train['year'].dtype)\n",
    "X_train['year'] = X_train['year'].astype(np.float32)\n",
    "# print(\"Shape of desc_1024_pad:\", desc_1024_pad.shape)\n",
    "print(\"Shape of X_train['year']:\", X_train['year'].shape)"
   ]
  },
  {
   "cell_type": "code",
   "execution_count": 16,
   "id": "0e60b56c-57a0-4416-b142-70a5df3f02b1",
   "metadata": {},
   "outputs": [],
   "source": [
    "# desc_1024_pad = pad_sequences(desc_1024,truncating='post', maxlen=128)\n",
    "# desc_1024_pad\n",
    "# new_column = pd.Series(desc_1024_pad.flatten(), name='description')\n",
    "\n",
    "# X_train.description= [ arr for arr in desc_1024_pad]\n",
    "\n",
    "# X_train.description.shape[1]\n"
   ]
  },
  {
   "cell_type": "code",
   "execution_count": 37,
   "id": "5bdedee9-60d2-4141-ad27-62787c10d9f1",
   "metadata": {},
   "outputs": [],
   "source": [
    "# # Define the graph model\n",
    "# # Categorical inputs\n",
    "# cat_input_1 = Input(shape=(1,))\n",
    "# embedding_1 = Embedding(input_dim=2, output_dim=2)(cat_input_1)\n",
    "# flat_embed_1 = Flatten()(embedding_1)\n",
    "\n",
    "# cat_input_2 = Input(shape=(1,))\n",
    "# embedding_2 = Embedding(input_dim=4, output_dim=2)(cat_input_2)\n",
    "# flat_embed_2 = Flatten()(embedding_2)\n",
    "\n",
    "# cat_input_3 = Input(shape=(1,))\n",
    "# embedding_3 = Embedding(input_dim=4, output_dim=2)(cat_input_3)\n",
    "# flat_embed_3 = Flatten()(embedding_3)\n",
    "\n",
    "# cat_input_4 = Input(shape=(1,))\n",
    "# embedding_4 = Embedding(input_dim=4, output_dim=2)(cat_input_4)\n",
    "# flat_embed_4 = Flatten()(embedding_2)\n",
    "\n",
    "# cat_input_5 = Input(shape=(1,))\n",
    "# embedding_5 = Embedding(input_dim=4, output_dim=2)(cat_input_5)\n",
    "# flat_embed_5 = Flatten()(embedding_5)\n",
    "\n",
    "# cat_input_6 = Input(shape=(1,))\n",
    "# embedding_6 = Embedding(input_dim=4, output_dim=2)(cat_input_6)\n",
    "# flat_embed_6 = Flatten()(embedding_6)\n",
    "\n",
    "\n",
    "# # Embedding layers for textual features\n",
    "# embedding_dim = 16\n",
    "# text_input_3 = Input(shape=(128,))\n",
    "# embedding_3 = Embedding(input_dim=128, output_dim=embedding_dim)(text_input_3)\n",
    "# flat_embed_3 = Flatten()(embedding_3)\n",
    "\n",
    "# text_input = Input(shape=(128,))\n",
    "# embedding_dim = 50  # Dimension of the embedding vectors\n",
    "# embedding_layer = Embedding(input_dim=128, output_dim=embedding_dim, input_length=128)(text_input)\n",
    "# flatten_embedding = Flatten()(embedding_layer)\n",
    "# # Numerical inputs\n",
    "# num_input = Input(shape=(1,))\n",
    "\n",
    "# # Concatenate categorical embeddings with numerical inputs\n",
    "# concatenated = Concatenate()([flat_embed_1,flat_embed_2,flat_embed_3,flat_embed_4,flat_embed_5,flat_embed_6, flat_embed_2,flat_embed_3])\n",
    "\n",
    "# # Dense layers for classification\n",
    "# x = Dense(16, activation='relu')(concatenated)\n",
    "# x = Dense(8, activation='relu')(x)\n",
    "# outputs = Dense(1, activation='sigmoid')(x)\n",
    "\n",
    "# # Create the model\n",
    "# model = Model(inputs=[cat_input_1,cat_input_2,cat_input_3,cat_input_4,cat_input_5,cat_input_6, num_input,text_input_3], outputs=outputs)\n"
   ]
  },
  {
   "cell_type": "code",
   "execution_count": 38,
   "id": "e8f3d21a-b120-4836-b3cc-07419010595b",
   "metadata": {},
   "outputs": [],
   "source": [
    "# plot_model(model, show_dtype=True, show_shapes=True, show_layer_names=True, to_file='model_1.png')"
   ]
  },
  {
   "cell_type": "code",
   "execution_count": 39,
   "id": "60a38331-91dd-4b64-84fe-49379bfd4b67",
   "metadata": {},
   "outputs": [],
   "source": [
    "# from tensorflow.keras.models import Model\n",
    "# from tensorflow.keras.layers import Input, Dense, Embedding, Concatenate, Flatten\n",
    "# from tensorflow.keras.optimizers import Adam\n",
    "# from tensorflow.keras.metrics import Accuracy\n",
    "# from tensorflow.keras.losses import BinaryCrossentropy\n",
    "# from tensorflow.keras.utils import to_categorical, plot_model\n",
    "# from sklearn.model_selection import train_test_split\n",
    "# from sklearn.preprocessing import StandardScaler\n",
    "\n",
    "# # Compile the model\n",
    "# model.compile(optimizer=Adam(learning_rate=0.001),\n",
    "#               loss=BinaryCrossentropy(),\n",
    "#               metrics=[Accuracy()])"
   ]
  },
  {
   "cell_type": "code",
   "execution_count": null,
   "id": "2eab58b3-8d0c-4892-a4d0-39d446ade255",
   "metadata": {},
   "outputs": [],
   "source": []
  },
  {
   "cell_type": "code",
   "execution_count": null,
   "id": "43a670e0-72cc-48f5-99d0-41b7adc10be0",
   "metadata": {},
   "outputs": [],
   "source": []
  },
  {
   "cell_type": "code",
   "execution_count": 18,
   "id": "97197929-8f2f-40f6-9cd6-3f86a4c3aab6",
   "metadata": {},
   "outputs": [
    {
     "name": "stdout",
     "output_type": "stream",
     "text": [
      "Epoch 1/10\n",
      "250/250 [==============================] - 11s 41ms/step - loss: 415.2439 - mean_absolute_error: 9.0157 - val_loss: 6.9730 - val_mean_absolute_error: 1.9828\n",
      "Epoch 2/10\n",
      "250/250 [==============================] - 10s 40ms/step - loss: 5.0332 - mean_absolute_error: 1.7215 - val_loss: 4.7617 - val_mean_absolute_error: 1.6725\n",
      "Epoch 3/10\n",
      "250/250 [==============================] - 10s 41ms/step - loss: 3.6893 - mean_absolute_error: 1.5104 - val_loss: 4.3559 - val_mean_absolute_error: 1.6079\n",
      "Epoch 4/10\n",
      "250/250 [==============================] - 10s 40ms/step - loss: 3.0518 - mean_absolute_error: 1.3791 - val_loss: 4.1393 - val_mean_absolute_error: 1.5919\n",
      "Epoch 5/10\n",
      "250/250 [==============================] - 10s 41ms/step - loss: 2.5756 - mean_absolute_error: 1.2682 - val_loss: 4.3266 - val_mean_absolute_error: 1.6191\n",
      "Epoch 6/10\n",
      "250/250 [==============================] - 10s 40ms/step - loss: 2.0981 - mean_absolute_error: 1.1444 - val_loss: 4.3708 - val_mean_absolute_error: 1.6458\n",
      "Epoch 7/10\n",
      "250/250 [==============================] - 10s 40ms/step - loss: 1.5475 - mean_absolute_error: 0.9771 - val_loss: 4.9635 - val_mean_absolute_error: 1.7468\n",
      "Epoch 8/10\n",
      "250/250 [==============================] - 10s 40ms/step - loss: 1.0640 - mean_absolute_error: 0.8059 - val_loss: 4.8903 - val_mean_absolute_error: 1.7351\n",
      "Epoch 9/10\n",
      "250/250 [==============================] - 10s 41ms/step - loss: 0.6736 - mean_absolute_error: 0.6366 - val_loss: 5.1559 - val_mean_absolute_error: 1.7895\n",
      "Epoch 10/10\n",
      "250/250 [==============================] - 10s 40ms/step - loss: 0.4479 - mean_absolute_error: 0.5202 - val_loss: 5.3543 - val_mean_absolute_error: 1.8276\n",
      "63/63 [==============================] - 0s 3ms/step - loss: 5.3543 - mean_absolute_error: 1.8276\n",
      "Test Loss: 5.354269027709961\n",
      "Test MAE: 1.827560544013977\n"
     ]
    }
   ],
   "source": [
    "from tensorflow.keras.models import Model\n",
    "from tensorflow.keras.layers import Input, Embedding, Dense, Concatenate, Flatten\n",
    "from tensorflow.keras.optimizers import Adam\n",
    "from tensorflow.keras.losses import MeanSquaredError\n",
    "from tensorflow.keras.metrics import MeanAbsoluteError\n",
    "\n",
    "max_words = 1024  # Maximum number of words to consider\n",
    "\n",
    "tokenizer_1024 = Tokenizer(num_words=1024)\n",
    "tokenizer_1024.fit_on_texts(X_train.description)\n",
    "desc_1024 = tokenizer_1024.texts_to_sequences(X_train.description)\n",
    "max_seq_length = max(len(seq) for seq in desc_1024)\n",
    "\n",
    "\n",
    "\n",
    "\n",
    "desc_1024_pad = pad_sequences(desc_1024, truncating='post', maxlen=max_seq_length)\n",
    "text_input_1 = Input(shape=(max_seq_length,))\n",
    "\n",
    "# # Split the data into training and testing sets\n",
    "# X_train_text1, X_test_text1, y_train1, y_test1 = train_test_split(\n",
    "#     df, y_train, test_size=0.2, random_state=42\n",
    "# )\n",
    "tokenizer_1024_test = Tokenizer(num_words=1024)\n",
    "tokenizer_1024_test.fit_on_texts(X_test.description)\n",
    "desc_1024_test = tokenizer_1024.texts_to_sequences(X_test.description)\n",
    "max_seq_length_test = max(len(seq) for seq in desc_1024_test)\n",
    "# df = pd.DataFrame({'winery': X_train['winery'], 'desc_1024': desc_1024_pad})\n",
    "desc_1024_pad_test = pad_sequences(desc_1024_test, truncating='post', maxlen=max_seq_length)\n",
    "\n",
    "\n",
    "\n",
    "cat_input_1 = Input(shape=(1,))\n",
    "embedding_1 = Embedding(input_dim=4720, output_dim=1)(cat_input_1)\n",
    "flat_embed_1 = Flatten()(embedding_1)\n",
    "\n",
    "# Embedding layers for textual features\n",
    "embedding_dim = 128\n",
    "embedding_1 = Embedding(input_dim=max_words, output_dim=embedding_dim)(text_input_1)\n",
    "flatten_1 = Flatten()(embedding_1)\n",
    "\n",
    "# Concatenate flattened embeddings with dense layers for regression\n",
    "concatenated = Flatten()(flatten_1)  # Remove extra Flatten layer\n",
    "x = Dense(256, activation='relu')(concatenated)\n",
    "x = Dense(32, activation='relu')(x)\n",
    "output = Dense(1, activation='linear')(x)  # Use linear activation for continuous target variable\n",
    "\n",
    "# Define the model\n",
    "model = Model(inputs=[text_input_1], outputs=output)\n",
    "\n",
    "# Compile the model\n",
    "model.compile(optimizer=Adam(learning_rate=0.001),\n",
    "              loss=MeanSquaredError(),\n",
    "              metrics=[MeanAbsoluteError()])\n",
    "\n",
    "# Train the model\n",
    "model.fit([desc_1024_pad], y_train,\n",
    "          batch_size=32,\n",
    "          epochs=10,\n",
    "          validation_data=([desc_1024_pad_test], y_test))\n",
    "\n",
    "# Evaluate the model\n",
    "loss, mae = model.evaluate([desc_1024_pad_test], y_test)\n",
    "print('Test Loss:', loss)\n",
    "print('Test MAE:', mae)"
   ]
  },
  {
   "cell_type": "code",
   "execution_count": 32,
   "id": "09b860d9-a1ee-46dd-bd67-be1843482946",
   "metadata": {},
   "outputs": [],
   "source": [
    "# from tensorflow.keras.models import Model\n",
    "# from tensorflow.keras.layers import Input, Embedding, Dense, Concatenate, Flatten\n",
    "# from tensorflow.keras.optimizers import Adam\n",
    "# from tensorflow.keras.losses import MeanSquaredError\n",
    "# from tensorflow.keras.metrics import MeanAbsoluteError\n",
    "\n",
    "# max_words = 1024  # Maximum number of words to consider\n",
    "\n",
    "# tokenizer_1024 = Tokenizer(num_words=1024)\n",
    "# tokenizer_1024.fit_on_texts(X_train.description)\n",
    "# desc_1024 = tokenizer_1024.texts_to_sequences(X_train.description)\n",
    "# max_seq_length = max(len(seq) for seq in desc_1024)\n",
    "\n",
    "\n",
    "\n",
    "\n",
    "# desc_1024_pad = pad_sequences(desc_1024, truncating='post', maxlen=max_seq_length)\n",
    "# text_input_1 = Input(shape=(max_seq_length,))\n",
    "\n",
    "# # # Split the data into training and testing sets\n",
    "# # X_train_text1, X_test_text1, y_train1, y_test1 = train_test_split(\n",
    "# #     df, y_train, test_size=0.2, random_state=42\n",
    "# # )\n",
    "# tokenizer_1024_test = Tokenizer(num_words=1024)\n",
    "# tokenizer_1024_test.fit_on_texts(X_test.description)\n",
    "# desc_1024_test = tokenizer_1024.texts_to_sequences(X_test.description)\n",
    "# max_seq_length_test = max(len(seq) for seq in desc_1024_test)\n",
    "# # df = pd.DataFrame({'winery': X_train['winery'], 'desc_1024': desc_1024_pad})\n",
    "# desc_1024_pad_test = pad_sequences(desc_1024_test, truncating='post', maxlen=max_seq_length)\n",
    "\n",
    "\n",
    "\n",
    "# cat_input_1 = Input(shape=(1,))\n",
    "# embedding_1 = Embedding(input_dim=4720, output_dim=16)(cat_input_1)\n",
    "# flat_embed_1 = Flatten()(embedding_1)\n",
    "\n",
    "# # Embedding layers for textual features\n",
    "# embedding_dim = 128\n",
    "# embedding_1_text = Embedding(input_dim=max_words, output_dim=embedding_dim)(text_input_1)\n",
    "# flatten_1 = Flatten()(embedding_1_text)\n",
    "\n",
    "# # Concatenate flattened embeddings with dense layers for regression\n",
    "# concatenated = Flatten()([flatten_1,flat_embed_1])  # Remove extra Flatten layer\n",
    "# x = Dense(256, activation='relu')(concatenated)\n",
    "# x = Dense(32, activation='relu')(x)\n",
    "# output = Dense(1, activation='linear')(x)  # Use linear activation for continuous target variable\n",
    "\n",
    "# # Define the model\n",
    "# model = Model(inputs=[text_input_1,cat_input_1], outputs=output)\n",
    "\n",
    "# # Compile the model\n",
    "# model.compile(optimizer=Adam(learning_rate=0.001),\n",
    "#               loss=MeanSquaredError(),\n",
    "#               metrics=[MeanAbsoluteError()])\n",
    "\n",
    "# # Train the model\n",
    "# model.fit([desc_1024_pad,X_train['winery']], y_train,\n",
    "#           batch_size=32,\n",
    "#           epochs=10,\n",
    "#           validation_data=([desc_1024_pad_test,X_test['winery']], y_test))\n",
    "\n",
    "# # Evaluate the model\n",
    "# loss, mae = model.evaluate([desc_1024_pad_test,X_test['winery']], y_test)\n",
    "# print('Test Loss:', loss)\n",
    "# print('Test MAE:', mae)"
   ]
  },
  {
   "cell_type": "code",
   "execution_count": 33,
   "id": "1ae26865-b75e-4ee7-8281-5c0a5293a246",
   "metadata": {},
   "outputs": [
    {
     "name": "stdout",
     "output_type": "stream",
     "text": [
      "Epoch 1/10\n",
      "250/250 [==============================] - 11s 42ms/step - loss: 425.8490 - mean_absolute_error: 9.1946 - val_loss: 8.3840 - val_mean_absolute_error: 2.2669\n",
      "Epoch 2/10\n",
      "250/250 [==============================] - 10s 40ms/step - loss: 5.0061 - mean_absolute_error: 1.7213 - val_loss: 4.9135 - val_mean_absolute_error: 1.7096\n",
      "Epoch 3/10\n",
      "250/250 [==============================] - 10s 39ms/step - loss: 2.7672 - mean_absolute_error: 1.2778 - val_loss: 5.0459 - val_mean_absolute_error: 1.7626\n",
      "Epoch 4/10\n",
      "250/250 [==============================] - 10s 39ms/step - loss: 1.6610 - mean_absolute_error: 0.9693 - val_loss: 5.6753 - val_mean_absolute_error: 1.8793\n",
      "Epoch 5/10\n",
      "250/250 [==============================] - 10s 39ms/step - loss: 1.1840 - mean_absolute_error: 0.8074 - val_loss: 6.2543 - val_mean_absolute_error: 1.9865\n",
      "Epoch 6/10\n",
      "250/250 [==============================] - 10s 39ms/step - loss: 0.8737 - mean_absolute_error: 0.7000 - val_loss: 6.3666 - val_mean_absolute_error: 2.0025\n",
      "Epoch 7/10\n",
      "250/250 [==============================] - 10s 39ms/step - loss: 0.6188 - mean_absolute_error: 0.5860 - val_loss: 6.6144 - val_mean_absolute_error: 2.0437\n",
      "Epoch 8/10\n",
      "250/250 [==============================] - 10s 39ms/step - loss: 0.4739 - mean_absolute_error: 0.5257 - val_loss: 6.6785 - val_mean_absolute_error: 2.0525\n",
      "Epoch 9/10\n",
      "250/250 [==============================] - 10s 39ms/step - loss: 0.3303 - mean_absolute_error: 0.4491 - val_loss: 6.9425 - val_mean_absolute_error: 2.0945\n",
      "Epoch 10/10\n",
      "250/250 [==============================] - 10s 41ms/step - loss: 0.2249 - mean_absolute_error: 0.3725 - val_loss: 6.8911 - val_mean_absolute_error: 2.0829\n",
      "63/63 [==============================] - 0s 4ms/step - loss: 6.8911 - mean_absolute_error: 2.0829\n",
      "Test Loss: 6.891099452972412\n",
      "Test MAE: 2.0828731060028076\n"
     ]
    }
   ],
   "source": [
    "from tensorflow.keras.models import Model\n",
    "from tensorflow.keras.layers import Input, Embedding, Dense, Concatenate, Flatten\n",
    "from tensorflow.keras.optimizers import Adam\n",
    "from tensorflow.keras.losses import MeanSquaredError\n",
    "from tensorflow.keras.metrics import MeanAbsoluteError\n",
    "from tensorflow.keras.preprocessing.text import Tokenizer\n",
    "from tensorflow.keras.preprocessing.sequence import pad_sequences\n",
    "\n",
    "max_words = 1024  # Maximum number of words to consider\n",
    "\n",
    "tokenizer_1024 = Tokenizer(num_words=1024)\n",
    "tokenizer_1024.fit_on_texts(X_train.description)\n",
    "desc_1024 = tokenizer_1024.texts_to_sequences(X_train.description)\n",
    "max_seq_length = max(len(seq) for seq in desc_1024)\n",
    "\n",
    "desc_1024_pad = pad_sequences(desc_1024, truncating='post', maxlen=max_seq_length)\n",
    "text_input_1 = Input(shape=(max_seq_length,))\n",
    "\n",
    "tokenizer_1024_test = Tokenizer(num_words=1024)\n",
    "tokenizer_1024_test.fit_on_texts(X_test.description)\n",
    "desc_1024_test = tokenizer_1024.texts_to_sequences(X_test.description)\n",
    "max_seq_length_test = max(len(seq) for seq in desc_1024_test)\n",
    "\n",
    "desc_1024_pad_test = pad_sequences(desc_1024_test, truncating='post', maxlen=max_seq_length)\n",
    "\n",
    "cat_input_1 = Input(shape=(1,))\n",
    "embedding_1 = Embedding(input_dim=4720, output_dim=16)(cat_input_1)\n",
    "flat_embed_1 = Flatten()(embedding_1)\n",
    "\n",
    "embedding_dim = 128\n",
    "embedding_1_text = Embedding(input_dim=max_words, output_dim=embedding_dim)(text_input_1)\n",
    "flatten_1 = Flatten()(embedding_1_text)\n",
    "\n",
    "concatenated = Concatenate()([flatten_1, flat_embed_1])\n",
    "x = Dense(256, activation='relu')(concatenated)\n",
    "x = Dense(32, activation='relu')(x)\n",
    "output = Dense(1, activation='linear')(x)\n",
    "\n",
    "model = Model(inputs=[text_input_1, cat_input_1], outputs=output)\n",
    "\n",
    "model.compile(optimizer=Adam(learning_rate=0.001),\n",
    "              loss=MeanSquaredError(),\n",
    "              metrics=[MeanAbsoluteError()])\n",
    "\n",
    "model.fit([desc_1024_pad, X_train['winery']], y_train,\n",
    "          batch_size=32,\n",
    "          epochs=10,\n",
    "          validation_data=([desc_1024_pad_test, X_test['winery']], y_test))\n",
    "\n",
    "loss, mae = model.evaluate([desc_1024_pad_test, X_test['winery']], y_test)\n",
    "print('Test Loss:', loss)\n",
    "print('Test MAE:', mae)"
   ]
  },
  {
   "cell_type": "code",
   "execution_count": 47,
   "id": "552b5f5f-1084-4525-b9d5-85b7f9fd98a7",
   "metadata": {},
   "outputs": [
    {
     "name": "stdout",
     "output_type": "stream",
     "text": [
      "Epoch 1/10\n",
      "250/250 [==============================] - 11s 43ms/step - loss: 356.6086 - mean_absolute_error: 8.4225 - val_loss: 6.6383 - val_mean_absolute_error: 1.9521\n",
      "Epoch 2/10\n",
      "250/250 [==============================] - 11s 42ms/step - loss: 4.4774 - mean_absolute_error: 1.6238 - val_loss: 4.9672 - val_mean_absolute_error: 1.7318\n",
      "Epoch 3/10\n",
      "250/250 [==============================] - 11s 42ms/step - loss: 2.3793 - mean_absolute_error: 1.1802 - val_loss: 5.8028 - val_mean_absolute_error: 1.8910\n",
      "Epoch 4/10\n",
      "250/250 [==============================] - 10s 41ms/step - loss: 1.4933 - mean_absolute_error: 0.9322 - val_loss: 6.1450 - val_mean_absolute_error: 1.9575\n",
      "Epoch 5/10\n",
      "250/250 [==============================] - 11s 42ms/step - loss: 1.0158 - mean_absolute_error: 0.7557 - val_loss: 6.2787 - val_mean_absolute_error: 1.9871\n",
      "Epoch 6/10\n",
      "250/250 [==============================] - 10s 41ms/step - loss: 0.7329 - mean_absolute_error: 0.6416 - val_loss: 6.5869 - val_mean_absolute_error: 2.0294\n",
      "Epoch 7/10\n",
      "250/250 [==============================] - 10s 41ms/step - loss: 0.5152 - mean_absolute_error: 0.5479 - val_loss: 6.8365 - val_mean_absolute_error: 2.0668\n",
      "Epoch 8/10\n",
      "250/250 [==============================] - 10s 42ms/step - loss: 0.3625 - mean_absolute_error: 0.4657 - val_loss: 7.1049 - val_mean_absolute_error: 2.1181\n",
      "Epoch 9/10\n",
      "250/250 [==============================] - 10s 41ms/step - loss: 0.2713 - mean_absolute_error: 0.4120 - val_loss: 7.1105 - val_mean_absolute_error: 2.1164\n",
      "Epoch 10/10\n",
      "250/250 [==============================] - 11s 45ms/step - loss: 0.2005 - mean_absolute_error: 0.3544 - val_loss: 7.1144 - val_mean_absolute_error: 2.1058\n",
      "63/63 [==============================] - 0s 4ms/step - loss: 7.1144 - mean_absolute_error: 2.1058\n",
      "Test Loss: 7.114370346069336\n",
      "Test MAE: 2.1057519912719727\n"
     ]
    }
   ],
   "source": [
    "from tensorflow.keras.models import Model\n",
    "from tensorflow.keras.layers import Input, Embedding, Dense, Concatenate, Flatten\n",
    "from tensorflow.keras.optimizers import Adam\n",
    "from tensorflow.keras.losses import MeanSquaredError\n",
    "from tensorflow.keras.metrics import MeanAbsoluteError\n",
    "from tensorflow.keras.preprocessing.text import Tokenizer\n",
    "from tensorflow.keras.preprocessing.sequence import pad_sequences\n",
    "\n",
    "max_words = 1024  # Maximum number of words to consider\n",
    "\n",
    "tokenizer_1024 = Tokenizer(num_words=1024)\n",
    "tokenizer_1024.fit_on_texts(X_train.description)\n",
    "desc_1024 = tokenizer_1024.texts_to_sequences(X_train.description)\n",
    "max_seq_length = max(len(seq) for seq in desc_1024)\n",
    "\n",
    "desc_1024_pad = pad_sequences(desc_1024, truncating='post', maxlen=max_seq_length)\n",
    "text_input_1 = Input(shape=(max_seq_length,))\n",
    "\n",
    "tokenizer_1024_test = Tokenizer(num_words=1024)\n",
    "tokenizer_1024_test.fit_on_texts(X_test.description)\n",
    "desc_1024_test = tokenizer_1024.texts_to_sequences(X_test.description)\n",
    "max_seq_length_test = max(len(seq) for seq in desc_1024_test)\n",
    "\n",
    "desc_1024_pad_test = pad_sequences(desc_1024_test, truncating='post', maxlen=max_seq_length)\n",
    "\n",
    "\n",
    "# winery\n",
    "cat_input_1 = Input(shape=(1,))\n",
    "embedding_1 = Embedding(input_dim=4720, output_dim=16)(cat_input_1)\n",
    "flat_embed_1 = Flatten()(embedding_1)\n",
    "\n",
    "#variety\n",
    "cat_input_2 = Input(shape=(1,))\n",
    "embedding_2 = Embedding(input_dim=306, output_dim=16)(cat_input_2)\n",
    "flat_embed_2 = Flatten()(embedding_1)\n",
    "\n",
    "#country \n",
    "cat_input_3 = Input(shape=(1,))\n",
    "embedding_3 = Embedding(input_dim=34, output_dim=16)(cat_input_3)\n",
    "flat_embed_3 = Flatten()(embedding_1) \n",
    "\n",
    "\n",
    "#year\n",
    "cat_input_4 = Input(shape=(1,))\n",
    "embedding_4 = Embedding(input_dim=28, output_dim=16)(cat_input_4)\n",
    "flat_embed_4 = Flatten()(embedding_1)  \n",
    "\n",
    "embedding_dim = 128\n",
    "embedding_1_text = Embedding(input_dim=max_words, output_dim=embedding_dim)(text_input_1)\n",
    "flatten_1 = Flatten()(embedding_1_text)\n",
    "\n",
    "concatenated = Concatenate()([flatten_1, flat_embed_1,flat_embed_2,flat_embed_3])\n",
    "x = Dense(256, activation='relu')(concatenated)\n",
    "x = Dense(32, activation='relu')(x)\n",
    "output = Dense(1, activation='linear')(x)\n",
    "\n",
    "model = Model(inputs=[text_input_1, cat_input_1,cat_input_2,cat_input_3], outputs=output)\n",
    "\n",
    "model.compile(optimizer=Adam(learning_rate=0.001),\n",
    "              loss=MeanSquaredError(),\n",
    "              metrics=[MeanAbsoluteError()])\n",
    "\n",
    "model.fit([desc_1024_pad,X_train['winery'], X_train['variety'],X_train['country']], y_train,\n",
    "          batch_size=32,\n",
    "          epochs=10,\n",
    "          validation_data=([desc_1024_pad_test,X_test['winery'],X_test['variety'],X_test['country']], y_test))\n",
    "\n",
    "loss, mae = model.evaluate([desc_1024_pad_test,X_test['winery'],X_test['variety'],X_test['country']], y_test)\n",
    "print('Test Loss:', loss)\n",
    "print('Test MAE:', mae)"
   ]
  },
  {
   "cell_type": "code",
   "execution_count": 48,
   "id": "aaa81ac3-797c-47ac-9233-217d1864b592",
   "metadata": {},
   "outputs": [
    {
     "data": {
      "image/png": "[encoded data removed]",
      "text/plain": [
       "<IPython.core.display.Image object>"
      ]
     },
     "execution_count": 48,
     "metadata": {},
     "output_type": "execute_result"
    }
   ],
   "source": [
    "plot_model(model, show_dtype=True, show_shapes=True, show_layer_names=True, to_file='model_1.png')"
   ]
  },
  {
   "cell_type": "code",
   "execution_count": 22,
   "id": "b4d5ec79-207b-49c2-8a0a-1027b5a7c170",
   "metadata": {},
   "outputs": [],
   "source": [
    "# from tensorflow.keras.models import Model\n",
    "# from tensorflow.keras.layers import Input, Embedding, Dense, Concatenate, Flatten\n",
    "# from tensorflow.keras.optimizers import Adam\n",
    "# from tensorflow.keras.losses import MeanSquaredError\n",
    "# from tensorflow.keras.metrics import MeanAbsoluteError\n",
    "\n",
    "# max_words = 1024  # Maximum number of words to consider\n",
    "\n",
    "\n",
    "# tokenizer_1024 = Tokenizer(num_words=1024)\n",
    "# tokenizer_1024.fit_on_texts(X_test.description)\n",
    "# desc_1024_test = tokenizer_1024.texts_to_sequences(X_test.description)\n",
    "\n",
    "# max_seq_length_test = max(len(seq) for seq in desc_1024)\n",
    "# desc_1024_pad_test = pad_sequences(desc_1024_test, truncating='post', maxlen=max_seq_length_test)\n",
    "# text_input_1_test = Input(shape=(max_seq_length_test,))\n",
    "\n",
    "# tokenizer_1024 = Tokenizer(num_words=1024)\n",
    "# tokenizer_1024.fit_on_texts(X_train.description)\n",
    "# desc_1024 = tokenizer_1024.texts_to_sequences(X_train.description)\n",
    "# max_seq_length = max(len(seq) for seq in desc_1024)\n",
    "\n",
    "# desc_1024_pad = pad_sequences(desc_1024, truncating='post', maxlen=max_seq_length)\n",
    "# text_input_1 = Input(shape=(max_seq_length,))\n",
    "\n",
    "# cat_input_1 = Input(shape=(1,))\n",
    "# num_categories = len(X_train['year'].unique()) # Add 1 for an unknown category\n",
    "# embedding_1 = Embedding(input_dim=num_categories, output_dim=embedding_dim)(cat_input_1)\n",
    "# flat_embed_1 = Flatten()(embedding_1)\n",
    "\n",
    "# # Embedding layers for textual features\n",
    "# embedding_dim = 128\n",
    "# embedding_2 = Embedding(input_dim=max_words, output_dim=embedding_dim)(text_input_1)\n",
    "# flatten_2 = Flatten()(embedding_2)\n",
    "\n",
    "# # Concatenate flattened embeddings with dense layers for regression\n",
    "# concatenated = Concatenate()([flatten_2, flat_embed_1])\n",
    "# x = Dense(256, activation='relu')(concatenated)\n",
    "# x = Dense(32, activation='relu')(x)\n",
    "# output = Dense(1, activation='linear')(x)  # Use linear activation for continuous target variable\n",
    "\n",
    "# # Define the model\n",
    "# model = Model(inputs=[cat_input_1], outputs=output)\n",
    "\n",
    "# # Compile the model\n",
    "# model.compile(optimizer=Adam(learning_rate=0.001),\n",
    "#               loss=MeanSquaredError(),\n",
    "#               metrics=[MeanAbsoluteError()])\n",
    "\n",
    "# # Train the model\n",
    "# model.fit([X_train['year']], y_train,\n",
    "#           batch_size=32,\n",
    "#           epochs=10,\n",
    "#           validation_data=([X_test['year']], y_test))\n",
    "\n",
    "# # Evaluate the model\n",
    "# loss, mae = model.evaluate([X_test['year']], y_test)\n",
    "# print('Test Loss:', loss)\n",
    "# print('Test MAE:', mae)\n"
   ]
  },
  {
   "cell_type": "code",
   "execution_count": null,
   "id": "7611a35f-bd2e-4cd8-814c-5551be683772",
   "metadata": {},
   "outputs": [],
   "source": []
  },
  {
   "cell_type": "code",
   "execution_count": 23,
   "id": "7297c92e-b47e-4e9c-a915-f8472db68a9a",
   "metadata": {},
   "outputs": [],
   "source": [
    "# from tensorflow.keras.models import Model\n",
    "# from tensorflow.keras.layers import Input, Embedding, Dense, Flatten\n",
    "# from tensorflow.keras.optimizers import Adam\n",
    "# from tensorflow.keras.losses import MeanSquaredError\n",
    "# from tensorflow.keras.metrics import MeanAbsoluteError\n",
    "\n",
    "# cat_input_1 = Input(shape=(1,))\n",
    "# num_categories = len(X_train['year'].unique())  # Add 1 for an unknown category\n",
    "# embedding_dim = 128\n",
    "# embedding_1 = Embedding(input_dim=num_categories, output_dim=embedding_dim)(cat_input_1)\n",
    "# flatten_1 = Flatten()(embedding_1)\n",
    "\n",
    "# x = Dense(256, activation='relu')(flatten_1)\n",
    "# x = Dense(32, activation='relu')(x)\n",
    "# output = Dense(1, activation='linear')(x)  # Use linear activation for continuous target variable\n",
    "\n",
    "# # Define the model\n",
    "# model = Model(inputs=[cat_input_1], outputs=output)\n",
    "\n",
    "# # Compile the model\n",
    "# model.compile(optimizer=Adam(learning_rate=0.001),\n",
    "#               loss=MeanSquaredError(),\n",
    "#               metrics=[MeanAbsoluteError()])\n",
    "\n",
    "# # Train the model\n",
    "# model.fit(X_train['year'], y_train,\n",
    "#           batch_size=32,\n",
    "#           epochs=10,\n",
    "#           validation_data=(X_test['year'], y_test))\n",
    "\n",
    "# # Evaluate the model\n",
    "# loss, mae = model.evaluate(X_test['year'], y_test)\n",
    "# print('Test Loss:', loss)\n",
    "# print('Test MAE:', mae)"
   ]
  },
  {
   "cell_type": "code",
   "execution_count": null,
   "id": "433b8f14-907c-47b0-ab1d-95a90c8bfb9e",
   "metadata": {},
   "outputs": [],
   "source": []
  },
  {
   "cell_type": "code",
   "execution_count": null,
   "id": "3bbae996-d5d4-4773-93ab-ec6f9e5fbeb6",
   "metadata": {},
   "outputs": [],
   "source": []
  },
  {
   "cell_type": "code",
   "execution_count": null,
   "id": "a2f544ae-a115-404c-ac4d-7416b45c6a71",
   "metadata": {},
   "outputs": [],
   "source": []
  },
  {
   "cell_type": "code",
   "execution_count": null,
   "id": "287bb3b9-c557-49ce-8062-ce53bf8f0e27",
   "metadata": {},
   "outputs": [],
   "source": []
  },
  {
   "cell_type": "code",
   "execution_count": 24,
   "id": "6b0ccd69-3724-42ce-b11f-c36eb6408d02",
   "metadata": {},
   "outputs": [],
   "source": [
    "# max_words = 1024  # Maximum number of words to consider\n",
    "\n",
    "\n",
    "# tokenizer_1024 = Tokenizer(num_words=1024)\n",
    "# tokenizer_1024.fit_on_texts(X_train.description)\n",
    "# desc_1024 = tokenizer_1024.texts_to_sequences(X_train.description)\n",
    "# max_seq_length = max(len(seq) for seq in desc_1024)\n",
    "\n",
    "# desc_1024_pad = pad_sequences(desc_1024,truncating='post', maxlen=max_seq_length)\n",
    "# text_input_1 = Input(shape=(max_seq_length,))"
   ]
  },
  {
   "cell_type": "code",
   "execution_count": 25,
   "id": "bb9ec70b-398d-44dc-8641-06c8bd94c5b2",
   "metadata": {},
   "outputs": [],
   "source": [
    "# # Split the data into training and testing sets\n",
    "# X_train_text1, X_test_text1, y_train1, y_test1 = train_test_split(\n",
    "#     desc_1024_pad, y_train, test_size=0.2, random_state=42\n",
    "# )"
   ]
  },
  {
   "cell_type": "code",
   "execution_count": 26,
   "id": "4f2bab20-250d-4979-8902-1aaa682dc210",
   "metadata": {},
   "outputs": [],
   "source": [
    "# # Embedding layers for textual features\n",
    "# embedding_dim = 128\n",
    "# embedding_1 = Embedding(input_dim=max_words, output_dim=embedding_dim)(text_input_1)\n",
    "# # Flatten the embeddings\n",
    "# flatten_1 = Flatten()(embedding_1)"
   ]
  },
  {
   "cell_type": "code",
   "execution_count": 151,
   "id": "4d4b6121-09a9-4521-bd2c-5002b8b04c47",
   "metadata": {},
   "outputs": [],
   "source": [
    "\n",
    "# # Concatenate flattened embeddings with dense layers for classification\n",
    "# concatenated = Concatenate()([flatten_1])\n",
    "# x = Dense(128, activation='relu')(concatenated)\n",
    "# x = Dense(32, activation='relu')(x)\n",
    "# output = Dense(4, activation='sigmoid')(x)"
   ]
  },
  {
   "cell_type": "code",
   "execution_count": 27,
   "id": "5bef64d9-d98d-467e-946d-08d5d234244d",
   "metadata": {},
   "outputs": [],
   "source": [
    "# # Compile the model\n",
    "# model.compile(optimizer=Adam(learning_rate=0.001),\n",
    "#               loss=BinaryCrossentropy(),\n",
    "#               metrics=[Accuracy()])\n",
    "\n",
    "# # Train the model\n",
    "# model.fit([X_train_text1], y_train1,\n",
    "#           batch_size=32,\n",
    "#           epochs=10,\n",
    "#           validation_data=([X_test_text1], y_test1))\n",
    "\n",
    "# # Evaluate the model\n",
    "# loss, accuracy = model.evaluate([X_test_text1], y_test1)\n",
    "# print('Test Loss:', loss)\n",
    "# print('Test Accuracy:', accuracy)"
   ]
  },
  {
   "cell_type": "code",
   "execution_count": null,
   "id": "216ab1e5-fd1d-447f-bea1-6bb3795eaa2e",
   "metadata": {},
   "outputs": [],
   "source": []
  },
  {
   "cell_type": "code",
   "execution_count": null,
   "id": "74f3dc51-ce36-4a53-92dc-42565e028f94",
   "metadata": {},
   "outputs": [],
   "source": []
  },
  {
   "cell_type": "code",
   "execution_count": null,
   "id": "b3508356-12f5-42ad-8faf-8199afe57a84",
   "metadata": {},
   "outputs": [],
   "source": []
  },
  {
   "cell_type": "code",
   "execution_count": 28,
   "id": "2f298496-7911-4ef1-ad75-27b74e0c08e4",
   "metadata": {},
   "outputs": [],
   "source": [
    "# from tensorflow.keras.models import Model\n",
    "# from tensorflow.keras.layers import Input, Dense, Embedding, Concatenate, Flatten\n",
    "# from tensorflow.keras.optimizers import Adam\n",
    "# from tensorflow.keras.metrics import Accuracy\n",
    "# from tensorflow.keras.losses import BinaryCrossentropy\n",
    "# from sklearn.model_selection import train_test_split\n",
    "# from sklearn.preprocessing import LabelEncoder\n",
    "# from tensorflow.keras.preprocessing.text import Tokenizer\n",
    "# from tensorflow.keras.utils import pad_sequences\n",
    "\n",
    "\n",
    "\n",
    "\n",
    "# label_encoder = LabelEncoder()\n",
    "# y = label_encoder.fit_transform(y_train)\n",
    "\n",
    "# # Tokenize and convert textual features to numerical sequences\n",
    "# max_words = 1024  # Maximum number of words to consider\n",
    "# tokenizer = Tokenizer(num_words=max_words)\n",
    "# tokenizer.fit_on_texts(X_train['description'])\n",
    "# X_text1 = tokenizer.texts_to_sequences(X_train['description'])"
   ]
  },
  {
   "cell_type": "code",
   "execution_count": 115,
   "id": "6f207628-d229-440a-a4d8-16714f82cd53",
   "metadata": {},
   "outputs": [],
   "source": [
    "# # Pad sequences to have the same length\n",
    "# max_seq_length = max(len(seq) for seq in X_text1)\n",
    "# X_text1 = pad_sequences(X_text1, maxlen=max_seq_length)\n"
   ]
  },
  {
   "cell_type": "code",
   "execution_count": 129,
   "id": "c5077fc0-d769-4bf2-a3ca-15783cd30d76",
   "metadata": {},
   "outputs": [],
   "source": [
    "# # Split the data into training and testing sets\n",
    "# X_train_text1, X_test_text1, y_train1, y_test1 = train_test_split(\n",
    "#     X_text1, y_train, test_size=0.2, random_state=42\n",
    "# )\n",
    "\n",
    "# # Define the graph model\n",
    "# # Input layers for textual features\n",
    "# text_input_1 = Input(shape=(max_seq_length,))"
   ]
  },
  {
   "cell_type": "code",
   "execution_count": 130,
   "id": "a90f5b4f-e167-4f88-ab0b-0259a5daaf40",
   "metadata": {},
   "outputs": [],
   "source": [
    "# Embedding layers for textual features\n",
    "embedding_dim = 128\n",
    "embedding_1 = Embedding(input_dim=max_words, output_dim=embedding_dim)(text_input_1)\n",
    "# Flatten the embeddings\n",
    "flatten_1 = Flatten()(embedding_1)"
   ]
  },
  {
   "cell_type": "code",
   "execution_count": 29,
   "id": "159d1b99-83ef-47f3-b1bd-465139225d89",
   "metadata": {},
   "outputs": [],
   "source": [
    "\n",
    "# # Concatenate flattened embeddings with dense layers for classification\n",
    "# concatenated = Concatenate()([flatten_1])\n",
    "# x = Dense(128, activation='relu')(concatenated)\n",
    "# x = Dense(32, activation='relu')(x)\n",
    "# output = Dense(1, activation='sigmoid')(x)"
   ]
  },
  {
   "cell_type": "code",
   "execution_count": 30,
   "id": "f194b975-3978-4474-b56b-75ff4764c1f9",
   "metadata": {},
   "outputs": [],
   "source": [
    "# model = Model(inputs=[text_input_1], outputs=output)"
   ]
  },
  {
   "cell_type": "code",
   "execution_count": 31,
   "id": "68110f94-9ca8-4783-bc81-f84746e764c0",
   "metadata": {},
   "outputs": [],
   "source": [
    "# # Compile the model\n",
    "# model.compile(optimizer=Adam(learning_rate=0.001),\n",
    "#               loss=BinaryCrossentropy(),\n",
    "#               metrics=[Accuracy()])\n",
    "\n",
    "# # Train the model\n",
    "# model.fit([X_train_text1], y_train1,\n",
    "#           batch_size=32,\n",
    "#           epochs=10,\n",
    "#           validation_data=([X_test_text1], y_test1))\n",
    "\n",
    "# # Evaluate the model\n",
    "# loss, accuracy = model.evaluate([X_test_text1], y_test1)\n",
    "# print('Test Loss:', loss)\n",
    "# print('Test Accuracy:', accuracy)"
   ]
  },
  {
   "cell_type": "code",
   "execution_count": 32,
   "id": "91b22178-c413-4835-97ee-de9791797e5d",
   "metadata": {},
   "outputs": [],
   "source": [
    "# categorical_features =  ['country','province','region_1','variety','winery','year']\n",
    "# numerical_features = ['price']\n",
    "# description_features = ['description']\n",
    "# data =[X_train['country']+X_train['province']+X_train['region_1']+\n",
    "#            X_train['variety']+X_train['winery']+X_train['year']+X_train['price']+X_train['description']+ y_train]\n",
    "# # model.fit([X_train['country'],X_train['province'],X_train['region_1'],\n",
    "# #            X_train['variety'],X_train['winery'],X_train['year'],X_train['price'],X_train['description'], y_train],\n",
    "# #           batch_size=32,\n",
    "# #           epochs=10)\n",
    "\n",
    "# model.fit([data,y_train],\n",
    "#           batch_size=32,\n",
    "#           epochs=10)\n",
    "# data = X_train[categorical_features+numerical_features+description_features]\n",
    "# data"
   ]
  },
  {
   "cell_type": "code",
   "execution_count": 33,
   "id": "42d6fa84-60e1-456a-9cbe-fcbaa03570ce",
   "metadata": {},
   "outputs": [],
   "source": [
    "# model.fit(X_train, y_train,\n",
    "#         batch_size=32,\n",
    "#         epochs=10,\n",
    "#         callbacks=EarlyStopping(monitor='val_loss', patience=3),\n",
    "#         workers = 8,\n",
    "#         verbose = 0,\n",
    "#         validation_data=(X_test, y_test))"
   ]
  },
  {
   "cell_type": "code",
   "execution_count": null,
   "id": "b8429afc-e122-45a2-adc1-c0e9d3d1e61c",
   "metadata": {},
   "outputs": [],
   "source": []
  },
  {
   "cell_type": "code",
   "execution_count": null,
   "id": "a798e05e-c5c6-4594-a84f-0e0aa7b49677",
   "metadata": {},
   "outputs": [],
   "source": []
  },
  {
   "cell_type": "code",
   "execution_count": null,
   "id": "e6125a7c-4b3c-4611-841a-2c0fd8ac371d",
   "metadata": {},
   "outputs": [],
   "source": []
  },
  {
   "cell_type": "code",
   "execution_count": null,
   "id": "c0f0a6a3-ddf6-4bfc-b00b-0ceb433a6ec1",
   "metadata": {},
   "outputs": [],
   "source": []
  },
  {
   "cell_type": "code",
   "execution_count": 38,
   "id": "5538fa28-57d4-4e23-b053-9fb31792239c",
   "metadata": {},
   "outputs": [],
   "source": []
  },
  {
   "cell_type": "code",
   "execution_count": null,
   "id": "51fa029c-1e15-4f1f-b5c2-4443570ed832",
   "metadata": {},
   "outputs": [],
   "source": []
  },
  {
   "cell_type": "code",
   "execution_count": null,
   "id": "5c2d9f21-7106-402c-9ba6-31c63a022361",
   "metadata": {},
   "outputs": [],
   "source": []
  },
  {
   "cell_type": "markdown",
   "id": "24d7de35-e851-4a76-a401-6867f5eeada2",
   "metadata": {},
   "source": [
    "## Deep Learning"
   ]
  },
  {
   "cell_type": "code",
   "execution_count": 57,
   "id": "c1bea899-2edf-49c3-9d7e-a0b72f145684",
   "metadata": {},
   "outputs": [],
   "source": [
    "import io\n",
    "import re\n",
    "import string\n",
    "import tqdm\n",
    "\n",
    "import numpy as np\n",
    "\n",
    "import tensorflow as tf\n",
    "from tensorflow.keras import layers"
   ]
  },
  {
   "cell_type": "code",
   "execution_count": 58,
   "id": "19b8758d-ff66-43ca-82a7-4d41c3d3f89d",
   "metadata": {},
   "outputs": [
    {
     "name": "stdout",
     "output_type": "stream",
     "text": [
      "The tensorboard extension is already loaded. To reload it, use:\n",
      "  %reload_ext tensorboard\n"
     ]
    }
   ],
   "source": [
    "# Load the TensorBoard notebook extension\n",
    "%load_ext tensorboard"
   ]
  },
  {
   "cell_type": "code",
   "execution_count": 59,
   "id": "bf1ed0b0-8fb3-40ef-8a2a-2bbbb70716f5",
   "metadata": {},
   "outputs": [],
   "source": [
    "# Generates skip-gram pairs with negative sampling for a list of sequences\n",
    "# (int-encoded sentences) based on window size, number of negative samples\n",
    "# and vocabulary size.\n",
    "def generate_training_data(sequences, window_size, num_ns, vocab_size, seed):\n",
    "  # Elements of each training example are appended to these lists.\n",
    "  targets, contexts, labels = [], [], []\n",
    "\n",
    "  # Build the sampling table for vocab_size tokens.\n",
    "  sampling_table = tf.keras.preprocessing.sequence.make_sampling_table(vocab_size)\n",
    "\n",
    "  # Iterate over all sequences (sentences) in dataset.\n",
    "  for sequence in tqdm.tqdm(sequences):\n",
    "\n",
    "    # Generate positive skip-gram pairs for a sequence (sentence).\n",
    "    positive_skip_grams, _ = tf.keras.preprocessing.sequence.skipgrams(\n",
    "          sequence,\n",
    "          vocabulary_size=vocab_size,\n",
    "          sampling_table=sampling_table,\n",
    "          window_size=window_size,\n",
    "          negative_samples=0)\n",
    "\n",
    "    # Iterate over each positive skip-gram pair to produce training examples\n",
    "    # with positive context word and negative samples.\n",
    "    for target_word, context_word in positive_skip_grams:\n",
    "        context_class = tf.expand_dims(\n",
    "            tf.constant([context_word], dtype=\"int64\"), 1)\n",
    "        negative_sampling_candidates, _, _ = tf.random.log_uniform_candidate_sampler(\n",
    "            true_classes=context_class,\n",
    "            num_true=1,\n",
    "            num_sampled=num_ns,\n",
    "            unique=True,\n",
    "            range_max=vocab_size,\n",
    "            seed=SEED,\n",
    "            name=\"negative_sampling\")\n",
    "\n",
    "    # Build context and label vectors (for one target word)\n",
    "    negative_sampling_candidates = tf.expand_dims(\n",
    "        negative_sampling_candidates, 1)\n",
    "    context = tf.concat([context_class, negative_sampling_candidates], 0)\n",
    "    label = tf.constant([1] + [0]*num_ns, dtype=\"int64\")\n",
    "\n",
    "    # Append each element from the training example to global lists.\n",
    "    targets.append(target_word)\n",
    "    contexts.append(context)\n",
    "    labels.append(label)\n",
    "\n",
    "    return targets, contexts, labels"
   ]
  },
  {
   "cell_type": "code",
   "execution_count": 60,
   "id": "b7a8f304-bf7b-4a7e-a4bf-278270225157",
   "metadata": {},
   "outputs": [],
   "source": [
    "from sklearn.compose import ColumnTransformer\n",
    "from sklearn.pipeline import Pipeline\n",
    "from sklearn.impute import SimpleImputer\n",
    "from sklearn.preprocessing import StandardScaler, OneHotEncoder\n",
    "from sklearn.feature_extraction.text import TfidfVectorizer\n",
    "from sklearn.decomposition import PCA\n",
    "from sklearn.decomposition import TruncatedSVD\n"
   ]
  },
  {
   "cell_type": "code",
   "execution_count": 67,
   "id": "268e1e4a-7937-4df4-a8f8-0dfdc3c39077",
   "metadata": {},
   "outputs": [],
   "source": [
    "categorical_features =  ['country','designation','province','region_1','title','variety','winery']\n",
    "numerical_features = ['price']\n",
    "description_features = ['description']"
   ]
  },
  {
   "cell_type": "code",
   "execution_count": 68,
   "id": "a09da982-7baa-4307-8b7f-035990e2d2bd",
   "metadata": {},
   "outputs": [],
   "source": [
    "X = wine_reviews.drop(columns='points').head(10000).copy()\n",
    "y = wine_reviews['points'].head(10000).copy()\n"
   ]
  },
  {
   "cell_type": "code",
   "execution_count": 69,
   "id": "8d04109d-a94c-4687-b459-5c0185b689c3",
   "metadata": {},
   "outputs": [],
   "source": [
    "import numpy as np\n",
    "import pandas as pd\n",
    "import pydot\n",
    "import graphviz\n",
    "from tensorflow.keras.models import Model\n",
    "from tensorflow.keras.layers import Input, Dense, Embedding, Concatenate, Flatten\n",
    "from tensorflow.keras.optimizers import Adam\n",
    "from tensorflow.keras.metrics import Accuracy\n",
    "from tensorflow.keras.losses import BinaryCrossentropy\n",
    "from tensorflow.keras.utils import to_categorical, plot_model\n",
    "from sklearn.model_selection import train_test_split\n",
    "from sklearn.preprocessing import StandardScaler\n",
    "\n"
   ]
  },
  {
   "cell_type": "code",
   "execution_count": 77,
   "id": "e76dec62-26d6-496f-8627-f8125b9a7333",
   "metadata": {},
   "outputs": [
    {
     "data": {
      "text/plain": [
       "<keras.engine.functional.Functional at 0x7fad4869d460>"
      ]
     },
     "execution_count": 77,
     "metadata": {},
     "output_type": "execute_result"
    }
   ],
   "source": [
    "# Define the graph model\n",
    "# Categorical inputs\n",
    "cat_input_1 = Input(shape=(7,))\n",
    "embedding_1 = Embedding(input_dim=len(categorical_features), output_dim=len(categorical_features))(cat_input_1)\n",
    "flat_embed_1 = Flatten()(embedding_1)\n",
    "\n",
    "# cat_input_2 = Input(shape=(1,))\n",
    "# embedding_2 = Embedding(input_dim=4, output_dim=2)(cat_input_2)\n",
    "# flat_embed_2 = Flatten()(embedding_2)\n",
    "\n",
    "# Numerical inputs\n",
    "num_input = Input(shape=(len(numerical_features),))\n",
    "\n",
    "# Concatenate categorical embeddings with numerical inputs\n",
    "concatenated = Concatenate()([flat_embed_1, num_input])\n",
    "\n",
    "# Dense layers for classification\n",
    "x = Dense(16, activation='relu')(concatenated)\n",
    "x = Dense(8, activation='relu')(x)\n",
    "outputs = Dense(1, activation='sigmoid')(x)\n",
    "\n",
    "# Create the model\n",
    "model = Model(inputs=[cat_input_1, num_input], outputs=outputs)\n",
    "model"
   ]
  },
  {
   "cell_type": "code",
   "execution_count": 78,
   "id": "a810a358-9c08-4302-b142-0641b589fd80",
   "metadata": {},
   "outputs": [
    {
     "data": {
      "image/png": "[encoded data removed]",
      "text/plain": [
       "<IPython.core.display.Image object>"
      ]
     },
     "execution_count": 78,
     "metadata": {},
     "output_type": "execute_result"
    }
   ],
   "source": [
    "plot_model(model, show_dtype=True, show_shapes=True, show_layer_names=True, to_file='model_1.png')"
   ]
  },
  {
   "cell_type": "code",
   "execution_count": 76,
   "id": "88916d56-e9c8-4aa5-af92-43ccedaa0d90",
   "metadata": {},
   "outputs": [
    {
     "name": "stdout",
     "output_type": "stream",
     "text": [
      "Epoch 1/10\n"
     ]
    },
    {
     "ename": "ValueError",
     "evalue": "in user code:\n\n    File \"/Users/sachar/opt/anaconda3/lib/python3.9/site-packages/keras/engine/training.py\", line 1284, in train_function  *\n        return step_function(self, iterator)\n    File \"/Users/sachar/opt/anaconda3/lib/python3.9/site-packages/keras/engine/training.py\", line 1268, in step_function  **\n        outputs = model.distribute_strategy.run(run_step, args=(data,))\n    File \"/Users/sachar/opt/anaconda3/lib/python3.9/site-packages/keras/engine/training.py\", line 1249, in run_step  **\n        outputs = model.train_step(data)\n    File \"/Users/sachar/opt/anaconda3/lib/python3.9/site-packages/keras/engine/training.py\", line 1050, in train_step\n        y_pred = self(x, training=True)\n    File \"/Users/sachar/opt/anaconda3/lib/python3.9/site-packages/keras/utils/traceback_utils.py\", line 70, in error_handler\n        raise e.with_traceback(filtered_tb) from None\n    File \"/Users/sachar/opt/anaconda3/lib/python3.9/site-packages/keras/engine/input_spec.py\", line 298, in assert_input_compatibility\n        raise ValueError(\n\n    ValueError: Input 0 of layer \"model_8\" is incompatible with the layer: expected shape=(None, 128), found shape=(None, 7)\n",
     "output_type": "error",
     "traceback": [
      "\u001b[0;31m---------------------------------------------------------------------------\u001b[0m",
      "\u001b[0;31mValueError\u001b[0m                                Traceback (most recent call last)",
      "\u001b[0;32m/var/folders/y9/5q7dx2j91_x2pwj_s_kllqc80000gp/T/ipykernel_9528/1127093876.py\u001b[0m in \u001b[0;36m<module>\u001b[0;34m\u001b[0m\n\u001b[1;32m      6\u001b[0m \u001b[0;34m\u001b[0m\u001b[0m\n\u001b[1;32m      7\u001b[0m \u001b[0;31m# Train the model\u001b[0m\u001b[0;34m\u001b[0m\u001b[0;34m\u001b[0m\u001b[0m\n\u001b[0;32m----> 8\u001b[0;31m \u001b[0mmodel\u001b[0m\u001b[0;34m.\u001b[0m\u001b[0mfit\u001b[0m\u001b[0;34m(\u001b[0m\u001b[0;34m[\u001b[0m\u001b[0mX_train\u001b[0m\u001b[0;34m[\u001b[0m\u001b[0mcategorical_features\u001b[0m\u001b[0;34m]\u001b[0m\u001b[0;34m,\u001b[0m \u001b[0mX_train\u001b[0m\u001b[0;34m[\u001b[0m\u001b[0mnumerical_features\u001b[0m\u001b[0;34m]\u001b[0m\u001b[0;34m]\u001b[0m\u001b[0;34m,\u001b[0m \u001b[0my_train\u001b[0m\u001b[0;34m,\u001b[0m\u001b[0mbatch_size\u001b[0m\u001b[0;34m=\u001b[0m\u001b[0;36m8\u001b[0m\u001b[0;34m,\u001b[0m\u001b[0mepochs\u001b[0m\u001b[0;34m=\u001b[0m\u001b[0;36m10\u001b[0m\u001b[0;34m)\u001b[0m\u001b[0;34m\u001b[0m\u001b[0;34m\u001b[0m\u001b[0m\n\u001b[0m\u001b[1;32m      9\u001b[0m \u001b[0;34m\u001b[0m\u001b[0m\n\u001b[1;32m     10\u001b[0m \u001b[0;31m# Evaluate the model\u001b[0m\u001b[0;34m\u001b[0m\u001b[0;34m\u001b[0m\u001b[0m\n",
      "\u001b[0;32m~/opt/anaconda3/lib/python3.9/site-packages/keras/utils/traceback_utils.py\u001b[0m in \u001b[0;36merror_handler\u001b[0;34m(*args, **kwargs)\u001b[0m\n\u001b[1;32m     68\u001b[0m             \u001b[0;31m# To get the full stack trace, call:\u001b[0m\u001b[0;34m\u001b[0m\u001b[0;34m\u001b[0m\u001b[0m\n\u001b[1;32m     69\u001b[0m             \u001b[0;31m# `tf.debugging.disable_traceback_filtering()`\u001b[0m\u001b[0;34m\u001b[0m\u001b[0;34m\u001b[0m\u001b[0m\n\u001b[0;32m---> 70\u001b[0;31m             \u001b[0;32mraise\u001b[0m \u001b[0me\u001b[0m\u001b[0;34m.\u001b[0m\u001b[0mwith_traceback\u001b[0m\u001b[0;34m(\u001b[0m\u001b[0mfiltered_tb\u001b[0m\u001b[0;34m)\u001b[0m \u001b[0;32mfrom\u001b[0m \u001b[0;32mNone\u001b[0m\u001b[0;34m\u001b[0m\u001b[0;34m\u001b[0m\u001b[0m\n\u001b[0m\u001b[1;32m     71\u001b[0m         \u001b[0;32mfinally\u001b[0m\u001b[0;34m:\u001b[0m\u001b[0;34m\u001b[0m\u001b[0;34m\u001b[0m\u001b[0m\n\u001b[1;32m     72\u001b[0m             \u001b[0;32mdel\u001b[0m \u001b[0mfiltered_tb\u001b[0m\u001b[0;34m\u001b[0m\u001b[0;34m\u001b[0m\u001b[0m\n",
      "\u001b[0;32m~/opt/anaconda3/lib/python3.9/site-packages/keras/engine/training.py\u001b[0m in \u001b[0;36mtf__train_function\u001b[0;34m(iterator)\u001b[0m\n\u001b[1;32m     13\u001b[0m                 \u001b[0;32mtry\u001b[0m\u001b[0;34m:\u001b[0m\u001b[0;34m\u001b[0m\u001b[0;34m\u001b[0m\u001b[0m\n\u001b[1;32m     14\u001b[0m                     \u001b[0mdo_return\u001b[0m \u001b[0;34m=\u001b[0m \u001b[0;32mTrue\u001b[0m\u001b[0;34m\u001b[0m\u001b[0;34m\u001b[0m\u001b[0m\n\u001b[0;32m---> 15\u001b[0;31m                     \u001b[0mretval_\u001b[0m \u001b[0;34m=\u001b[0m \u001b[0mag__\u001b[0m\u001b[0;34m.\u001b[0m\u001b[0mconverted_call\u001b[0m\u001b[0;34m(\u001b[0m\u001b[0mag__\u001b[0m\u001b[0;34m.\u001b[0m\u001b[0mld\u001b[0m\u001b[0;34m(\u001b[0m\u001b[0mstep_function\u001b[0m\u001b[0;34m)\u001b[0m\u001b[0;34m,\u001b[0m \u001b[0;34m(\u001b[0m\u001b[0mag__\u001b[0m\u001b[0;34m.\u001b[0m\u001b[0mld\u001b[0m\u001b[0;34m(\u001b[0m\u001b[0mself\u001b[0m\u001b[0;34m)\u001b[0m\u001b[0;34m,\u001b[0m \u001b[0mag__\u001b[0m\u001b[0;34m.\u001b[0m\u001b[0mld\u001b[0m\u001b[0;34m(\u001b[0m\u001b[0miterator\u001b[0m\u001b[0;34m)\u001b[0m\u001b[0;34m)\u001b[0m\u001b[0;34m,\u001b[0m \u001b[0;32mNone\u001b[0m\u001b[0;34m,\u001b[0m \u001b[0mfscope\u001b[0m\u001b[0;34m)\u001b[0m\u001b[0;34m\u001b[0m\u001b[0;34m\u001b[0m\u001b[0m\n\u001b[0m\u001b[1;32m     16\u001b[0m                 \u001b[0;32mexcept\u001b[0m\u001b[0;34m:\u001b[0m\u001b[0;34m\u001b[0m\u001b[0;34m\u001b[0m\u001b[0m\n\u001b[1;32m     17\u001b[0m                     \u001b[0mdo_return\u001b[0m \u001b[0;34m=\u001b[0m \u001b[0;32mFalse\u001b[0m\u001b[0;34m\u001b[0m\u001b[0;34m\u001b[0m\u001b[0m\n",
      "\u001b[0;31mValueError\u001b[0m: in user code:\n\n    File \"/Users/sachar/opt/anaconda3/lib/python3.9/site-packages/keras/engine/training.py\", line 1284, in train_function  *\n        return step_function(self, iterator)\n    File \"/Users/sachar/opt/anaconda3/lib/python3.9/site-packages/keras/engine/training.py\", line 1268, in step_function  **\n        outputs = model.distribute_strategy.run(run_step, args=(data,))\n    File \"/Users/sachar/opt/anaconda3/lib/python3.9/site-packages/keras/engine/training.py\", line 1249, in run_step  **\n        outputs = model.train_step(data)\n    File \"/Users/sachar/opt/anaconda3/lib/python3.9/site-packages/keras/engine/training.py\", line 1050, in train_step\n        y_pred = self(x, training=True)\n    File \"/Users/sachar/opt/anaconda3/lib/python3.9/site-packages/keras/utils/traceback_utils.py\", line 70, in error_handler\n        raise e.with_traceback(filtered_tb) from None\n    File \"/Users/sachar/opt/anaconda3/lib/python3.9/site-packages/keras/engine/input_spec.py\", line 298, in assert_input_compatibility\n        raise ValueError(\n\n    ValueError: Input 0 of layer \"model_8\" is incompatible with the layer: expected shape=(None, 128), found shape=(None, 7)\n"
     ]
    }
   ],
   "source": [
    "# Compile the model\n",
    "model.compile(optimizer=Adam(learning_rate=0.001),\n",
    "              loss=BinaryCrossentropy(),\n",
    "              metrics=[Accuracy()])\n",
    "              \n",
    "\n",
    "# Train the model\n",
    "model.fit([X_train[categorical_features], X_train[numerical_features]], y_train,batch_size=8,epochs=10)\n",
    "\n",
    "# Evaluate the model\n",
    "loss, accuracy = model.evaluate([X_test[categorical_features], X_test[numerical_features]], y_test)\n",
    "print('Test Loss:', loss)\n",
    "print('Test Accuracy:', accuracy)"
   ]
  },
  {
   "cell_type": "code",
   "execution_count": null,
   "id": "e3b2f0f6-1f69-421e-94f8-4bad3c2effb5",
   "metadata": {},
   "outputs": [],
   "source": [
    "from tensorflow.keras.models import Model\n",
    "from tensorflow.keras.layers import Input, Dense, Embedding, Concatenate, Flatten\n",
    "from tensorflow.keras.optimizers import Adam\n",
    "from tensorflow.keras.metrics import Accuracy\n",
    "from tensorflow.keras.losses import BinaryCrossentropy\n",
    "from sklearn.model_selection import train_test_split\n",
    "from sklearn.preprocessing import LabelEncoder\n",
    "from tensorflow.keras.preprocessing.text import Tokenizer\n",
    "from tensorflow.keras.utils import pad_sequences"
   ]
  },
  {
   "cell_type": "code",
   "execution_count": 163,
   "id": "bb5857a3-527f-403e-9027-6fb6b91ee47f",
   "metadata": {},
   "outputs": [],
   "source": [
    "embedding_dim = 100\n",
    "embedding_index = {}\n",
    "\n",
    "\n",
    "with open('glove.6B.100d.txt',encoding='utf-8') as f:\n",
    "    for line in f:\n",
    "        values = line.splite()\n",
    "        word = values[0]\n",
    "        coefs = np.asarray(values[1:],dtype='float32')\n",
    "        embedding_index[word]=coefs"
   ]
  },
  {
   "cell_type": "code",
   "execution_count": 87,
   "id": "d1baea51-ea21-4823-9573-ea812a949934",
   "metadata": {},
   "outputs": [],
   "source": [
    "# Label encoding for the target variable\n",
    "label_encoder = LabelEncoder()\n",
    "y = label_encoder.fit_transform(y)\n",
    "\n",
    "# Tokenize and convert textual features to numerical sequences\n",
    "max_words = 1000  # Maximum number of words to consider\n",
    "tokenizer = Tokenizer(num_words=max_words)\n",
    "tokenizer.fit_on_texts(X['description'])\n",
    "X_text1 = tokenizer.texts_to_sequences(X['description'])\n"
   ]
  },
  {
   "cell_type": "code",
   "execution_count": 88,
   "id": "ccf46b48-373b-4d62-9d4a-71ae089cd67e",
   "metadata": {},
   "outputs": [],
   "source": [
    "# Pad sequences to have the same length\n",
    "max_seq_length = max(len(seq) for seq in X_text1)\n",
    "X_text1 = pad_sequences(X_text1, maxlen=max_seq_length)"
   ]
  },
  {
   "cell_type": "code",
   "execution_count": 39,
   "id": "00aea14f-ea7c-45a6-8341-8c072f448ca0",
   "metadata": {},
   "outputs": [],
   "source": [
    "X_train_text1, X_test_text1,y_train, y_test = train_test_split(\n",
    "    X_text1, y, test_size=0.2, random_state=42\n",
    ")\n",
    "\n",
    "# Define the graph model\n",
    "# Input layers for textual features\n",
    "text_input_1 = Input(shape=(max_seq_length,))"
   ]
  },
  {
   "cell_type": "code",
   "execution_count": 43,
   "id": "027a925c-46fc-44ca-9d6f-8ca2065eed6c",
   "metadata": {},
   "outputs": [],
   "source": [
    "# Embedding layers for textual features\n",
    "embedding_dim = 16\n",
    "embedding_1 = Embedding(input_dim=max_words, output_dim=embedding_dim)(text_input_1)\n",
    "\n",
    "# Flatten the embeddings\n",
    "flatten_1 = Flatten()(embedding_1)\n",
    "\n",
    "# Concatenate flattened embeddings with dense layers for classification\n",
    "concatenated = Concatenate()([flatten_1])\n",
    "x = Dense(64, activation='relu')(concatenated)\n",
    "x = Dense(32, activation='relu')(x)\n",
    "output = Dense(1, activation='sigmoid')(x)"
   ]
  },
  {
   "cell_type": "code",
   "execution_count": 45,
   "id": "a604b1a1-efd8-47b3-a0bb-71c0668b7e20",
   "metadata": {},
   "outputs": [],
   "source": [
    "# Create the model\n",
    "model = Model(inputs=[text_input_1], outputs=output)"
   ]
  },
  {
   "cell_type": "code",
   "execution_count": 46,
   "id": "bf9fcfdc-0ef8-4ccc-807b-448d1824c6ae",
   "metadata": {},
   "outputs": [
    {
     "name": "stdout",
     "output_type": "stream",
     "text": [
      "Model: \"model_1\"\n",
      "_________________________________________________________________\n",
      " Layer (type)                Output Shape              Param #   \n",
      "=================================================================\n",
      " input_4 (InputLayer)        [(None, 99)]              0         \n",
      "                                                                 \n",
      " embedding_6 (Embedding)     (None, 99, 16)            16000     \n",
      "                                                                 \n",
      " flatten_4 (Flatten)         (None, 1584)              0         \n",
      "                                                                 \n",
      " concatenate_2 (Concatenate)  (None, 1584)             0         \n",
      "                                                                 \n",
      " dense_3 (Dense)             (None, 64)                101440    \n",
      "                                                                 \n",
      " dense_4 (Dense)             (None, 32)                2080      \n",
      "                                                                 \n",
      " dense_5 (Dense)             (None, 1)                 33        \n",
      "                                                                 \n",
      "=================================================================\n",
      "Total params: 119,553\n",
      "Trainable params: 119,553\n",
      "Non-trainable params: 0\n",
      "_________________________________________________________________\n"
     ]
    }
   ],
   "source": [
    "model.summary()"
   ]
  },
  {
   "cell_type": "code",
   "execution_count": 47,
   "id": "6ff6d447-8f76-47e1-916e-5657ed11902d",
   "metadata": {},
   "outputs": [
    {
     "data": {
      "image/png": "[encoded data removed]",
      "text/plain": [
       "<IPython.core.display.Image object>"
      ]
     },
     "execution_count": 47,
     "metadata": {},
     "output_type": "execute_result"
    }
   ],
   "source": [
    "plot_model(model, show_dtype=True, show_shapes=True, show_layer_names=True, to_file='model_1.png')"
   ]
  },
  {
   "cell_type": "code",
   "execution_count": 48,
   "id": "22c664ff-6e58-4f66-9fd9-414fabee37c2",
   "metadata": {},
   "outputs": [
    {
     "name": "stdout",
     "output_type": "stream",
     "text": [
      "Epoch 1/10\n",
      "250/250 [==============================] - 1s 2ms/step - loss: -82531.5547 - accuracy: 0.0039 - val_loss: -453796.5000 - val_accuracy: 0.0040\n",
      "Epoch 2/10\n",
      "250/250 [==============================] - 0s 2ms/step - loss: -3324467.2500 - accuracy: 0.0043 - val_loss: -9033358.0000 - val_accuracy: 0.0040\n",
      "Epoch 3/10\n",
      "250/250 [==============================] - 0s 2ms/step - loss: -24220028.0000 - accuracy: 0.0043 - val_loss: -47107068.0000 - val_accuracy: 0.0040\n",
      "Epoch 4/10\n",
      "250/250 [==============================] - 0s 2ms/step - loss: -88946872.0000 - accuracy: 0.0043 - val_loss: -145033568.0000 - val_accuracy: 0.0040\n",
      "Epoch 5/10\n",
      "250/250 [==============================] - 0s 2ms/step - loss: -230489424.0000 - accuracy: 0.0043 - val_loss: -338048192.0000 - val_accuracy: 0.0040\n",
      "Epoch 6/10\n",
      "250/250 [==============================] - 0s 2ms/step - loss: -483774496.0000 - accuracy: 0.0043 - val_loss: -661425792.0000 - val_accuracy: 0.0040\n",
      "Epoch 7/10\n",
      "250/250 [==============================] - 0s 2ms/step - loss: -884910912.0000 - accuracy: 0.0043 - val_loss: -1151364352.0000 - val_accuracy: 0.0040\n",
      "Epoch 8/10\n",
      "250/250 [==============================] - 0s 2ms/step - loss: -1470388096.0000 - accuracy: 0.0043 - val_loss: -1845521792.0000 - val_accuracy: 0.0040\n",
      "Epoch 9/10\n",
      "250/250 [==============================] - 0s 2ms/step - loss: -2274100480.0000 - accuracy: 0.0043 - val_loss: -2775922688.0000 - val_accuracy: 0.0040\n",
      "Epoch 10/10\n",
      "250/250 [==============================] - 0s 2ms/step - loss: -3330182400.0000 - accuracy: 0.0043 - val_loss: -3978175488.0000 - val_accuracy: 0.0040\n",
      "63/63 [==============================] - 0s 883us/step - loss: -3978175488.0000 - accuracy: 0.0040\n",
      "Test Loss: -3978175488.0\n",
      "Test Accuracy: 0.004000000189989805\n"
     ]
    }
   ],
   "source": [
    "# Compile the model\n",
    "model.compile(optimizer=Adam(learning_rate=0.001),\n",
    "              loss=BinaryCrossentropy(),\n",
    "              metrics=[Accuracy()])\n",
    "\n",
    "# Train the model\n",
    "model.fit([X_train_text1], y_train,\n",
    "          batch_size=32,\n",
    "          epochs=10,\n",
    "          validation_data=([X_test_text1], y_test))\n",
    "\n",
    "# Evaluate the model\n",
    "loss, accuracy = model.evaluate([X_test_text1], y_test)\n",
    "print('Test Loss:', loss)\n",
    "print('Test Accuracy:', accuracy)"
   ]
  },
  {
   "cell_type": "code",
   "execution_count": 55,
   "id": "0c75a78c-2574-478f-b258-38736c0a2399",
   "metadata": {},
   "outputs": [],
   "source": [
    "from sklearn.model_selection import RandomizedSearchCV "
   ]
  },
  {
   "cell_type": "code",
   "execution_count": null,
   "id": "f54bc66b-c9fc-4855-90dc-6b61ef5d9074",
   "metadata": {},
   "outputs": [],
   "source": []
  },
  {
   "cell_type": "code",
   "execution_count": null,
   "id": "879f2c8c-6570-4a41-beb5-ad1678022b0d",
   "metadata": {},
   "outputs": [],
   "source": []
  },
  {
   "cell_type": "code",
   "execution_count": null,
   "id": "c30d8f5b-33e1-4774-9b94-8948ef785f68",
   "metadata": {},
   "outputs": [],
   "source": []
  },
  {
   "cell_type": "code",
   "execution_count": null,
   "id": "a80e4906-25fd-45b3-be61-0ddd7de0e1c3",
   "metadata": {},
   "outputs": [],
   "source": []
  },
  {
   "cell_type": "code",
   "execution_count": null,
   "id": "6010103b-3aa8-4645-9f8a-5798bd71e4bf",
   "metadata": {},
   "outputs": [],
   "source": []
  },
  {
   "cell_type": "code",
   "execution_count": null,
   "id": "8442b043-a0f7-44b9-86e8-63205189d109",
   "metadata": {},
   "outputs": [],
   "source": []
  },
  {
   "cell_type": "code",
   "execution_count": null,
   "id": "b6d62845-535e-43b5-912f-58891cfe0b69",
   "metadata": {},
   "outputs": [],
   "source": []
  },
  {
   "cell_type": "code",
   "execution_count": null,
   "id": "889de92e-4910-430f-b64c-5d52a04e4035",
   "metadata": {},
   "outputs": [],
   "source": []
  }
 ],
 "metadata": {
  "kernelspec": {
   "display_name": "Python 3 (ipykernel)",
   "language": "python",
   "name": "python3"
  },
  "language_info": {
   "codemirror_mode": {
    "name": "ipython",
    "version": 3
   },
   "file_extension": ".py",
   "mimetype": "text/x-python",
   "name": "python",
   "nbconvert_exporter": "python",
   "pygments_lexer": "ipython3",
   "version": "3.9.13"
  }
 },
 "nbformat": 4,
 "nbformat_minor": 5
}
